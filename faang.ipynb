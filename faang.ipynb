{
 "cells": [
  {
   "cell_type": "code",
   "execution_count": 84,
   "metadata": {},
   "outputs": [
    {
     "name": "stdout",
     "output_type": "stream",
     "text": [
      "The autoreload extension is already loaded. To reload it, use:\n",
      "  %reload_ext autoreload\n"
     ]
    }
   ],
   "source": [
    "import matplotlib.pyplot as plt\n",
    "import pandas as pd\n",
    "import numpy as np\n",
    "import math\n",
    "import torch\n",
    "import copy\n",
    "import torch.nn as nn\n",
    "import torch.optim as optim\n",
    "from utils import data_loader, train, eval, nn_modules\n",
    "from sklearn.preprocessing import MinMaxScaler\n",
    "from alpha_vantage.timeseries import TimeSeries\n",
    "\n",
    "%load_ext autoreload\n",
    "%autoreload 2"
   ]
  },
  {
   "cell_type": "code",
   "execution_count": 2,
   "metadata": {},
   "outputs": [
    {
     "data": {
      "text/plain": [
       "{'1. Information': 'Intraday (15min) open, high, low, close prices and volume',\n",
       " '2. Symbol': 'FB',\n",
       " '3. Last Refreshed': '2019-03-29 16:00:00',\n",
       " '4. Interval': '15min',\n",
       " '5. Output Size': 'Compact',\n",
       " '6. Time Zone': 'US/Eastern'}"
      ]
     },
     "execution_count": 2,
     "metadata": {},
     "output_type": "execute_result"
    }
   ],
   "source": [
    "API_KEY = 'PZZ6AOYX66Q8H83Q'\n",
    "ts = TimeSeries(key=API_KEY, output_format='pandas', indexing_type='date')\n",
    "data, meta_data = ts.get_intraday('FB')\n",
    "meta_data"
   ]
  },
  {
   "cell_type": "code",
   "execution_count": 90,
   "metadata": {},
   "outputs": [
    {
     "name": "stdout",
     "output_type": "stream",
     "text": [
      "Epoch:0, Average loss:0.0017757054883986712\n",
      "Average val MSE = 0.034703770700486886\n",
      "Epoch:1, Average loss:0.01124353613704443\n",
      "Average val MSE = 0.03309191255878641\n",
      "Epoch:2, Average loss:0.01295701414346695\n",
      "Average val MSE = 0.03127929906940805\n",
      "Epoch:3, Average loss:0.013563079759478569\n",
      "Average val MSE = 0.030955091148929203\n",
      "Epoch:4, Average loss:0.01386948861181736\n",
      "Average val MSE = 0.031634004816520636\n",
      "Epoch:5, Average loss:0.017848920077085495\n",
      "Average val MSE = 0.031403196121019224\n",
      "Epoch:6, Average loss:0.015991998836398125\n",
      "Average val MSE = 0.03004262894654278\n",
      "Epoch:7, Average loss:0.014698855578899384\n",
      "Average val MSE = 0.03581397960863868\n",
      "Epoch:8, Average loss:0.018684986978769302\n",
      "Average val MSE = 0.02756717085532888\n",
      "Epoch:9, Average loss:0.02507413551211357\n",
      "Average val MSE = 0.02375791159562316\n",
      "Epoch:10, Average loss:0.025342721492052078\n",
      "Average val MSE = 0.022319061264560507\n",
      "Epoch:11, Average loss:0.0255658607929945\n",
      "Average val MSE = 0.03389013468827253\n",
      "Epoch:12, Average loss:0.019879240542650223\n",
      "Average val MSE = 0.03151499434803111\n",
      "Epoch:13, Average loss:0.013318226672708988\n",
      "Average val MSE = 0.030683868973499066\n",
      "Epoch:14, Average loss:0.015364634804427624\n",
      "Average val MSE = 0.03162755174568925\n",
      "Epoch:15, Average loss:0.01456054113805294\n",
      "Average val MSE = 0.030066436317045735\n",
      "Epoch:16, Average loss:0.013172040693461895\n",
      "Average val MSE = 0.03312417607044403\n",
      "Epoch:17, Average loss:0.017345260828733444\n",
      "Average val MSE = 0.0319090429994781\n",
      "Epoch:18, Average loss:0.015879519283771515\n",
      "Average val MSE = 0.03109750328233037\n",
      "Epoch:19, Average loss:0.014607029035687447\n",
      "Average val MSE = 0.029877376389740376\n",
      "Epoch:20, Average loss:0.021804792806506157\n",
      "Average val MSE = 0.03018225582175394\n",
      "Epoch:21, Average loss:0.022808348760008812\n",
      "Average val MSE = 0.019069055145714782\n",
      "Epoch:22, Average loss:0.03468324616551399\n",
      "Average val MSE = 0.020300857735736963\n",
      "Epoch:23, Average loss:0.03407994657754898\n",
      "Average val MSE = 0.023980856284858413\n",
      "Epoch:24, Average loss:0.028320297598838806\n",
      "Average val MSE = 0.03338671189327891\n",
      "Epoch:25, Average loss:0.020588969811797142\n",
      "Average val MSE = 0.02974387727305104\n",
      "Epoch:26, Average loss:0.016511177644133568\n",
      "Average val MSE = 0.02753340107169675\n",
      "Epoch:27, Average loss:0.011587795801460743\n",
      "Average val MSE = 0.03081681017524398\n",
      "Epoch:28, Average loss:0.0075689987279474735\n",
      "Average val MSE = 0.024521983715416393\n",
      "Epoch:29, Average loss:0.007615266367793083\n",
      "Average val MSE = 0.027393018981248574\n",
      "Epoch:30, Average loss:0.006253161001950502\n",
      "Average val MSE = 0.019886078489986053\n",
      "Epoch:31, Average loss:0.0069113257341086864\n",
      "Average val MSE = 0.02826219229567753\n",
      "Epoch:32, Average loss:0.005712447222322226\n",
      "Average val MSE = 0.018653106676862787\n",
      "Epoch:33, Average loss:0.006639617960900068\n",
      "Average val MSE = 0.02441519338614337\n",
      "Epoch:34, Average loss:0.005599746014922857\n",
      "Average val MSE = 0.017235193941424073\n",
      "Epoch:35, Average loss:0.006707996595650911\n",
      "Average val MSE = 0.025652893827723847\n",
      "Epoch:36, Average loss:0.004618457052856684\n",
      "Average val MSE = 0.012070497580270576\n",
      "Epoch:37, Average loss:0.00661821523681283\n",
      "Average val MSE = 0.025105408203963685\n",
      "Epoch:38, Average loss:0.005093324929475784\n",
      "Average val MSE = 0.0183054992800255\n",
      "Epoch:39, Average loss:0.004854470491409302\n",
      "Average val MSE = 0.026333893333104038\n",
      "************ Finished Training **************\n",
      "Minimum val MSE = 0.012070497580270576\n",
      "Saving best model..\n"
     ]
    }
   ],
   "source": [
    "batch_size = 1\n",
    "input_size = 1\n",
    "hidden_size = 50\n",
    "num_layers = 2\n",
    "prediction_window = 3\n",
    "training_window = 10\n",
    "dropout=0.2\n",
    "epochs = 40\n",
    "\n",
    "# x_train, y_train, x_val, y_val = load_data(fb_df, training_window=training_window, prediction_window=prediction_window)\n",
    "\n",
    "dfs = data_loader.load_daily_data('./data/FAANG_13_18_CSV.csv', ['FB'])\n",
    "x_train, y_train, x_val, y_val = data_loader.create_split(dfs[0], training_window=training_window, prediction_window=prediction_window)\n",
    "\n",
    "device = torch.device(\"cuda:0\" if torch.cuda.is_available() else \"cpu\")\n",
    "dev_cpu = torch.device(\"cpu\")\n",
    "net = nn_modules.StockPredictor(input_size, hidden_size, num_layers, device, prediction_window, batch_size=batch_size, p=0.2)\n",
    "train_itr = data_loader.BatchIterator((x_train, y_train), batch_size)\n",
    "val_itr = data_loader.BatchIterator((x_val, y_val), batch_size)\n",
    "\n",
    "loss_function = nn.MSELoss(reduction='sum')\n",
    "optimizer = optim.Adam(net.parameters(), lr=1e-3)\n",
    "\n",
    "losses, min_val_mse = train.train(net, train_itr, val_itr, loss_function, optimizer, device, epochs=epochs)\n"
   ]
  },
  {
   "cell_type": "code",
   "execution_count": 92,
   "metadata": {},
   "outputs": [
    {
     "name": "stdout",
     "output_type": "stream",
     "text": [
      "Sucessfully loaded model ./models/best_model.pt\n",
      "Average test MSE = 0.012070760901629255\n"
     ]
    }
   ],
   "source": [
    "net = eval.load_saved_model('./models/best_model.pt', net)\n",
    "eval.evaluate_model(net, val_itr)\n",
    "\n",
    "# net.load_state_dict(torch.load('./models/best_model.pt'))\n",
    "# net.eval()\n",
    "# print('Sucessfully loaded model {}'.format('./models/best_model.pt'))"
   ]
  }
 ],
 "metadata": {
  "kernelspec": {
   "display_name": "Python 3",
   "language": "python",
   "name": "python3"
  },
  "language_info": {
   "codemirror_mode": {
    "name": "ipython",
    "version": 3
   },
   "file_extension": ".py",
   "mimetype": "text/x-python",
   "name": "python",
   "nbconvert_exporter": "python",
   "pygments_lexer": "ipython3",
   "version": "3.6.8rc1"
  }
 },
 "nbformat": 4,
 "nbformat_minor": 2
}
