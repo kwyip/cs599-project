{
 "cells": [
  {
   "cell_type": "code",
   "execution_count": 1,
   "metadata": {},
   "outputs": [],
   "source": [
    "import matplotlib.pyplot as plt\n",
    "import pandas as pd\n",
    "import numpy as np\n",
    "import math\n",
    "import torch\n",
    "import copy\n",
    "import torch.nn as nn\n",
    "import torch.optim as optim\n",
    "from utils import data_loader, train, eval, nn_modules\n",
    "from sklearn.preprocessing import MinMaxScaler\n",
    "from alpha_vantage.timeseries import TimeSeries\n",
    "\n",
    "%load_ext autoreload\n",
    "%autoreload 2"
   ]
  },
  {
   "cell_type": "code",
   "execution_count": 2,
   "metadata": {},
   "outputs": [
    {
     "data": {
      "text/plain": [
       "{'1. Information': 'Intraday (15min) open, high, low, close prices and volume',\n",
       " '2. Symbol': 'FB',\n",
       " '3. Last Refreshed': '2019-04-02 14:45:00',\n",
       " '4. Interval': '15min',\n",
       " '5. Output Size': 'Compact',\n",
       " '6. Time Zone': 'US/Eastern'}"
      ]
     },
     "execution_count": 2,
     "metadata": {},
     "output_type": "execute_result"
    }
   ],
   "source": [
    "API_KEY = 'PZZ6AOYX66Q8H83Q'\n",
    "ts = TimeSeries(key=API_KEY, output_format='pandas', indexing_type='date')\n",
    "data, meta_data = ts.get_intraday('FB')\n",
    "meta_data"
   ]
  },
  {
   "cell_type": "code",
   "execution_count": 27,
   "metadata": {},
   "outputs": [
    {
     "name": "stderr",
     "output_type": "stream",
     "text": [
      "d:\\cs 699\\env\\lib\\site-packages\\sklearn\\utils\\validation.py:595: DataConversionWarning: Data with input dtype int64 was converted to float64 by MinMaxScaler.\n",
      "  warnings.warn(msg, DataConversionWarning)\n"
     ]
    },
    {
     "name": "stdout",
     "output_type": "stream",
     "text": [
      "Epoch:0, Average loss:0.0017557189567014575\n",
      "Average val MSE = 0.06250979525755335\n",
      "Epoch:1, Average loss:0.011914301663637161\n",
      "Average val MSE = 0.03396828508084147\n",
      "Epoch:2, Average loss:0.013356568291783333\n",
      "Average val MSE = 0.031125477118978347\n",
      "Epoch:3, Average loss:0.01742950826883316\n",
      "Average val MSE = 0.042122578481006916\n",
      "Epoch:4, Average loss:0.013159453868865967\n",
      "Average val MSE = 0.03615282474625985\n",
      "Epoch:5, Average loss:0.012911141850054264\n",
      "Average val MSE = 0.02881504224747337\n",
      "Epoch:6, Average loss:0.025547027587890625\n",
      "Average val MSE = 0.034255339975016674\n",
      "Epoch:7, Average loss:0.023514924570918083\n",
      "Average val MSE = 0.03456373004146959\n",
      "Epoch:8, Average loss:0.01830807514488697\n",
      "Average val MSE = 0.03265331343650982\n",
      "Epoch:9, Average loss:0.014573462307453156\n",
      "Average val MSE = 0.03364787312026066\n",
      "Epoch:10, Average loss:0.018339654430747032\n",
      "Average val MSE = 0.029473675263961288\n",
      "Epoch:11, Average loss:0.012760069221258163\n",
      "Average val MSE = 0.031395752727418506\n",
      "Epoch:12, Average loss:0.015340128913521767\n",
      "Average val MSE = 0.0349514178472193\n",
      "Epoch:13, Average loss:0.01773589849472046\n",
      "Average val MSE = 0.03392115762596723\n",
      "Epoch:14, Average loss:0.01851218193769455\n",
      "Average val MSE = 0.02355708909930882\n",
      "Epoch:15, Average loss:0.02525903470814228\n",
      "Average val MSE = 0.019751129602146596\n",
      "Epoch:16, Average loss:0.027268962934613228\n",
      "Average val MSE = 0.022134892355025373\n",
      "Epoch:17, Average loss:0.025318682193756104\n",
      "Average val MSE = 0.02921739365745499\n",
      "Epoch:18, Average loss:0.016548743471503258\n",
      "Average val MSE = 0.02943912575743936\n",
      "Epoch:19, Average loss:0.019987773150205612\n",
      "Average val MSE = 0.02822161921547321\n",
      "Epoch:20, Average loss:0.017048601061105728\n",
      "Average val MSE = 0.02402272988572031\n",
      "Epoch:21, Average loss:0.019887782633304596\n",
      "Average val MSE = 0.029432687546575964\n",
      "Epoch:22, Average loss:0.013397923670709133\n",
      "Average val MSE = 0.023734948340895283\n",
      "Epoch:23, Average loss:0.013483371585607529\n",
      "Average val MSE = 0.023613457798219585\n",
      "Epoch:24, Average loss:0.007141614332795143\n",
      "Average val MSE = 0.06855705401097545\n",
      "Epoch:25, Average loss:0.00787501223385334\n",
      "Average val MSE = 0.04380470622154976\n",
      "Epoch:26, Average loss:0.0074541387148201466\n",
      "Average val MSE = 0.03477047292506898\n",
      "Epoch:27, Average loss:0.0069157457910478115\n",
      "Average val MSE = 0.059803726304383874\n",
      "Epoch:28, Average loss:0.007482497487217188\n",
      "Average val MSE = 0.04955850089613401\n",
      "Epoch:29, Average loss:0.005891302600502968\n",
      "Average val MSE = 0.008383518009013522\n",
      "Epoch:30, Average loss:0.008330131880939007\n",
      "Average val MSE = 0.012080223661264548\n",
      "Epoch:31, Average loss:0.005203544162213802\n",
      "Average val MSE = 0.009973021969535194\n",
      "Epoch:32, Average loss:0.005546944681555033\n",
      "Average val MSE = 0.010890973851689318\n",
      "Epoch:33, Average loss:0.004876007325947285\n",
      "Average val MSE = 0.0073389165999233836\n",
      "Epoch:34, Average loss:0.0052071865648031235\n",
      "Average val MSE = 0.016249799220956256\n",
      "Epoch:35, Average loss:0.004827919416129589\n",
      "Average val MSE = 0.01613654463468005\n",
      "Epoch:36, Average loss:0.004500737879425287\n",
      "Average val MSE = 0.012711684052019482\n",
      "Epoch:37, Average loss:0.003995067439973354\n",
      "Average val MSE = 0.010045063548742898\n",
      "Epoch:38, Average loss:0.004252407234162092\n",
      "Average val MSE = 0.0173040939154722\n",
      "Epoch:39, Average loss:0.0036960153374820948\n",
      "Average val MSE = 0.019563663491994503\n",
      "Epoch:40, Average loss:0.0035605786833912134\n",
      "Average val MSE = 0.0411288102474482\n",
      "Epoch:41, Average loss:0.003471517004072666\n",
      "Average val MSE = 0.041911652113390284\n",
      "Epoch:42, Average loss:0.003179715946316719\n",
      "Average val MSE = 0.027686092255040835\n",
      "Epoch:43, Average loss:0.0029753653798252344\n",
      "Average val MSE = 0.03534166154218266\n",
      "Epoch:44, Average loss:0.0028929722029715776\n",
      "Average val MSE = 0.036378718898048445\n",
      "Epoch:45, Average loss:0.0030137430876493454\n",
      "Average val MSE = 0.03726872940521701\n",
      "Epoch:46, Average loss:0.0028137725312262774\n",
      "Average val MSE = 0.03749811423557473\n",
      "Epoch:47, Average loss:0.0026141346897929907\n",
      "Average val MSE = 0.03607749909405035\n",
      "Epoch:48, Average loss:0.0023368760012090206\n",
      "Average val MSE = 0.03597976424365876\n",
      "Epoch:49, Average loss:0.0023724075872451067\n",
      "Average val MSE = 0.04081759058800607\n",
      "Epoch:50, Average loss:0.002416212810203433\n",
      "Average val MSE = 0.028040589089554344\n",
      "Epoch:51, Average loss:0.002204182092100382\n",
      "Average val MSE = 0.02267618257425544\n",
      "Epoch:52, Average loss:0.0022905198857188225\n",
      "Average val MSE = 0.025107302240187285\n",
      "Epoch:53, Average loss:0.00227597844786942\n",
      "Average val MSE = 0.023753057826682945\n",
      "Epoch:54, Average loss:0.002114644041284919\n",
      "Average val MSE = 0.02215483900843647\n",
      "Epoch:55, Average loss:0.002160899806767702\n",
      "Average val MSE = 0.015031077484358267\n",
      "Epoch:56, Average loss:0.0021141895558685064\n",
      "Average val MSE = 0.018958994629831843\n",
      "Epoch:57, Average loss:0.0021578369196504354\n",
      "Average val MSE = 0.015529002053635332\n",
      "Epoch:58, Average loss:0.002129883971065283\n",
      "Average val MSE = 0.016463294314678474\n",
      "Epoch:59, Average loss:0.00216681812889874\n",
      "Average val MSE = 0.01579001966722918\n",
      "************ Finished Training **************\n",
      "Minimum val MSE = 0.0073389165999233836\n",
      "Saving best model..\n"
     ]
    }
   ],
   "source": [
    "batch_size = 1\n",
    "input_size = 2\n",
    "hidden_size = 50\n",
    "num_layers = 2\n",
    "prediction_window = 3\n",
    "training_window = 5\n",
    "dropout=0.2\n",
    "epochs = 60\n",
    "\n",
    "\n",
    "dfs = data_loader.load_daily_data('./data/FAANG_13_18_CSV.csv', ['FB'])\n",
    "x_train, y_train, x_val, y_val = data_loader.create_split(dfs[0], training_window=training_window, prediction_window=prediction_window)\n",
    "\n",
    "device = torch.device(\"cuda:0\" if torch.cuda.is_available() else \"cpu\")\n",
    "dev_cpu = torch.device(\"cpu\")\n",
    "net = nn_modules.StockPredictor(input_size, hidden_size, num_layers, device, prediction_window, batch_size=batch_size, p=0.2)\n",
    "train_itr = data_loader.BatchIterator((x_train, y_train), batch_size)\n",
    "val_itr = data_loader.BatchIterator((x_val, y_val), batch_size)\n",
    "\n",
    "loss_function = nn.MSELoss(reduction='sum')\n",
    "optimizer = optim.Adam(net.parameters(), lr=1e-3)\n",
    "\n",
    "losses, min_val_mse = train.train(net, train_itr, val_itr, loss_function, optimizer, device, epochs=epochs)\n"
   ]
  },
  {
   "cell_type": "code",
   "execution_count": 28,
   "metadata": {},
   "outputs": [
    {
     "name": "stdout",
     "output_type": "stream",
     "text": [
      "Sucessfully loaded model ./models/best_model.pt\n",
      "Average test MSE = 0.007376235068984948\n"
     ]
    }
   ],
   "source": [
    "net = eval.load_saved_model('./models/best_model.pt', net)\n",
    "eval.evaluate_model(net, val_itr)\n",
    "\n",
    "# net.load_state_dict(torch.load('./models/best_model.pt'))\n",
    "# net.eval()\n",
    "# print('Sucessfully loaded model {}'.format('./models/best_model.pt'))"
   ]
  },
  {
   "cell_type": "code",
   "execution_count": null,
   "metadata": {},
   "outputs": [],
   "source": []
  }
 ],
 "metadata": {
  "kernelspec": {
   "display_name": "Python 3",
   "language": "python",
   "name": "python3"
  },
  "language_info": {
   "codemirror_mode": {
    "name": "ipython",
    "version": 3
   },
   "file_extension": ".py",
   "mimetype": "text/x-python",
   "name": "python",
   "nbconvert_exporter": "python",
   "pygments_lexer": "ipython3",
   "version": "3.6.8rc1"
  }
 },
 "nbformat": 4,
 "nbformat_minor": 2
}
